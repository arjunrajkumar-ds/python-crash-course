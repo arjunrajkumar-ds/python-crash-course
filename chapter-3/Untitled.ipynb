{
 "cells": [
  {
   "cell_type": "code",
   "execution_count": 1,
   "id": "b9bbe5d5",
   "metadata": {},
   "outputs": [],
   "source": [
    "test = '111000'"
   ]
  },
  {
   "cell_type": "code",
   "execution_count": 3,
   "id": "23e70fc5",
   "metadata": {},
   "outputs": [],
   "source": [
    "num = int(test)"
   ]
  },
  {
   "cell_type": "code",
   "execution_count": 5,
   "id": "d313cfdd",
   "metadata": {},
   "outputs": [
    {
     "data": {
      "text/plain": [
       "int"
      ]
     },
     "execution_count": 5,
     "metadata": {},
     "output_type": "execute_result"
    }
   ],
   "source": [
    "type(num)"
   ]
  },
  {
   "cell_type": "code",
   "execution_count": 7,
   "id": "53057a65",
   "metadata": {},
   "outputs": [],
   "source": [
    "ones = sum(int(digit) for digit in test)"
   ]
  },
  {
   "cell_type": "code",
   "execution_count": 8,
   "id": "03e27c57",
   "metadata": {},
   "outputs": [
    {
     "data": {
      "text/plain": [
       "3"
      ]
     },
     "execution_count": 8,
     "metadata": {},
     "output_type": "execute_result"
    }
   ],
   "source": [
    "ones"
   ]
  }
 ],
 "metadata": {
  "kernelspec": {
   "display_name": "Python 3 (ipykernel)",
   "language": "python",
   "name": "python3"
  },
  "language_info": {
   "codemirror_mode": {
    "name": "ipython",
    "version": 3
   },
   "file_extension": ".py",
   "mimetype": "text/x-python",
   "name": "python",
   "nbconvert_exporter": "python",
   "pygments_lexer": "ipython3",
   "version": "3.8.10"
  }
 },
 "nbformat": 4,
 "nbformat_minor": 5
}
